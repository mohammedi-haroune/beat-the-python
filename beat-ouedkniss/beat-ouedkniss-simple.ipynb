{
 "cells": [
  {
   "cell_type": "code",
   "execution_count": 1,
   "metadata": {},
   "outputs": [],
   "source": [
    "import sys\n",
    "import requests\n",
    "from bs4 import BeautifulSoup\n",
    "import pytesseract\n",
    "from PIL import Image\n",
    "from io import BytesIO\n",
    "from pprint import pprint"
   ]
  },
  {
   "cell_type": "code",
   "execution_count": 2,
   "metadata": {},
   "outputs": [],
   "source": [
    "url = 'https://www.ouedkniss.com/samsung-galaxy-j5-alger-baraki-algerie-t%C3%A9l%C3%A9phones-d22583544?utm_medium=listing'"
   ]
  },
  {
   "cell_type": "code",
   "execution_count": 3,
   "metadata": {},
   "outputs": [],
   "source": [
    "# 1. Get the html page\n",
    "html = requests.get(url).content"
   ]
  },
  {
   "cell_type": "code",
   "execution_count": 4,
   "metadata": {},
   "outputs": [],
   "source": [
    "# 2. Parse the html page\n",
    "soup = BeautifulSoup(html, 'lxml')"
   ]
  },
  {
   "cell_type": "code",
   "execution_count": 5,
   "metadata": {},
   "outputs": [],
   "source": [
    "# 3. Extract relevant information\n",
    "id = soup.select_one('.numero > .description_span').text\n",
    "number_views = soup.find('label', text='Nombre de vues : ').find_next_sibling().text\n",
    "created_at = soup.find('label', text='Déposée le : ').find_next_sibling().text\n",
    "name = soup.select_one('#Title').text\n",
    "description = soup.select_one('#GetDescription').text\n",
    "price = soup.find(attrs={'itemprop': 'price'}).text"
   ]
  },
  {
   "cell_type": "code",
   "execution_count": 6,
   "metadata": {},
   "outputs": [],
   "source": [
    "# 4. Decode the phone number image\n",
    "phone_img = soup.select_one('.Phone > img')\n",
    "response = requests.get(phone_img['src'])\n",
    "img = Image.open(BytesIO(response.content))\n",
    "number = pytesseract.image_to_string(img)"
   ]
  },
  {
   "cell_type": "code",
   "execution_count": 8,
   "metadata": {},
   "outputs": [
    {
     "name": "stdout",
     "output_type": "stream",
     "text": [
      "{'id': '22583544',\n",
      " 'name': 'Samsung Galaxy J5',\n",
      " 'number': '0793402293',\n",
      " 'number_views': '34',\n",
      " 'price': '14000 DA Négociable'}\n"
     ]
    }
   ],
   "source": [
    "# 5. Print the results\n",
    "pprint({\n",
    "    'id': id,\n",
    "    'number_views': number_views,\n",
    "    'name': name,\n",
    "    'price': price,\n",
    "    'number': number\n",
    "})"
   ]
  }
 ],
 "metadata": {
  "kernelspec": {
   "display_name": "Python 3",
   "language": "python",
   "name": "python3"
  },
  "language_info": {
   "codemirror_mode": {
    "name": "ipython",
    "version": 3
   },
   "file_extension": ".py",
   "mimetype": "text/x-python",
   "name": "python",
   "nbconvert_exporter": "python",
   "pygments_lexer": "ipython3",
   "version": "3.8.2"
  }
 },
 "nbformat": 4,
 "nbformat_minor": 4
}
