{
 "cells": [
  {
   "cell_type": "markdown",
   "id": "ed842625",
   "metadata": {},
   "source": [
    "# Reading and writing files"
   ]
  },
  {
   "cell_type": "markdown",
   "id": "1af733f0",
   "metadata": {},
   "source": [
    "### Read a file: Iterate over the file lines"
   ]
  },
  {
   "cell_type": "code",
   "execution_count": 1,
   "id": "233323c6",
   "metadata": {},
   "outputs": [
    {
     "name": "stdout",
     "output_type": "stream",
     "text": [
      "Salam Alaykom ya el batata ...\n",
      "\n",
      "wa3alaykom Salam el Hadj Tahar\n"
     ]
    }
   ],
   "source": [
    "with open(\"data/sample.txt\") as f:\n",
    "    for line in f:\n",
    "        print(line)"
   ]
  },
  {
   "cell_type": "markdown",
   "id": "bd0909a0",
   "metadata": {},
   "source": [
    "### Write a string to a file"
   ]
  },
  {
   "cell_type": "code",
   "execution_count": 16,
   "id": "f4800761",
   "metadata": {},
   "outputs": [],
   "source": [
    "path = \"/tmp/good_morning.txt\""
   ]
  },
  {
   "cell_type": "code",
   "execution_count": 17,
   "id": "c6589619",
   "metadata": {},
   "outputs": [],
   "source": [
    "lines = \"\"\"Sebah el khir 3likom,\n",
    "Good morning,\n",
    "Bonjour!\"\n",
    "\"\"\"\n",
    "with open(path, \"w+\") as f:\n",
    "    f.write(lines)"
   ]
  },
  {
   "cell_type": "markdown",
   "id": "94cf2fc7",
   "metadata": {},
   "source": [
    "### Read the file as a string"
   ]
  },
  {
   "cell_type": "code",
   "execution_count": 18,
   "id": "8b01925d",
   "metadata": {},
   "outputs": [
    {
     "name": "stdout",
     "output_type": "stream",
     "text": [
      "Sebah el khir 3likom,\n",
      "\n",
      "Good morning,\n",
      "\n",
      "Bonjour!\"\n",
      "\n"
     ]
    }
   ],
   "source": [
    "with open(path) as f:\n",
    "    for line in f:\n",
    "        print(line)"
   ]
  },
  {
   "cell_type": "markdown",
   "id": "5fdbd8fc",
   "metadata": {},
   "source": [
    "### Read the files lines as list\n"
   ]
  },
  {
   "cell_type": "code",
   "execution_count": 21,
   "id": "d945187f",
   "metadata": {},
   "outputs": [
    {
     "name": "stdout",
     "output_type": "stream",
     "text": [
      "['Sebah el khir 3likom,\\n', 'Good morning,\\n', 'Bonjour!\"\\n']\n"
     ]
    }
   ],
   "source": [
    "with open(path) as file:\n",
    "    lines = file.readlines()\n",
    "    \n",
    "print(lines)"
   ]
  },
  {
   "cell_type": "markdown",
   "id": "e9b2743b",
   "metadata": {},
   "source": [
    "# Exercice"
   ]
  },
  {
   "cell_type": "markdown",
   "id": "329fd6e9",
   "metadata": {},
   "source": [
    "1. Write the user information of the previous exercise to a text file"
   ]
  },
  {
   "cell_type": "code",
   "execution_count": 26,
   "id": "606ca082",
   "metadata": {},
   "outputs": [],
   "source": [
    "# Your code start here\n",
    "\n",
    "# Your code ends here"
   ]
  },
  {
   "cell_type": "markdown",
   "id": "0515a6cf",
   "metadata": {},
   "source": [
    "2. Read the written file back as a dict and print user information"
   ]
  },
  {
   "cell_type": "code",
   "execution_count": 25,
   "id": "391b816e",
   "metadata": {},
   "outputs": [],
   "source": [
    "# Your code start here\n",
    "\n",
    "# Your code ends here"
   ]
  },
  {
   "cell_type": "markdown",
   "id": "00b9131d",
   "metadata": {},
   "source": [
    "# CSV files (Comma-Separated Values)"
   ]
  },
  {
   "cell_type": "markdown",
   "id": "3f02b403",
   "metadata": {},
   "source": [
    "- A CSV file typically stores tabular data in plain text\n",
    "- Each row is stored in a line and have the same number of fields, separated by commas\n",
    "- The first row or headers row usually contains the name of the fields (columns of the tabular data)"
   ]
  },
  {
   "cell_type": "markdown",
   "id": "d9da63d7",
   "metadata": {},
   "source": [
    "#### Example"
   ]
  },
  {
   "cell_type": "code",
   "execution_count": 45,
   "id": "8f832d6c",
   "metadata": {},
   "outputs": [
    {
     "name": "stdout",
     "output_type": "stream",
     "text": [
      "first_name,last_name\r\n",
      "Tahar,Estramend\r\n",
      "Amine,BenAli\r\n",
      "Zakaria,Matei"
     ]
    }
   ],
   "source": [
    "!cat data/users.csv"
   ]
  },
  {
   "cell_type": "markdown",
   "id": "fda6a2a8",
   "metadata": {},
   "source": [
    "# Reading and writing CSV files\n"
   ]
  },
  {
   "cell_type": "code",
   "execution_count": 29,
   "id": "be037131",
   "metadata": {},
   "outputs": [],
   "source": [
    "import csv"
   ]
  },
  {
   "cell_type": "code",
   "execution_count": 33,
   "id": "d0b3bcd7",
   "metadata": {},
   "outputs": [],
   "source": [
    "path = \"data/users.csv\""
   ]
  },
  {
   "cell_type": "markdown",
   "id": "b5c3faee",
   "metadata": {},
   "source": [
    "### Read a csv file as a list of rows"
   ]
  },
  {
   "cell_type": "code",
   "execution_count": 42,
   "id": "33373057",
   "metadata": {},
   "outputs": [
    {
     "name": "stdout",
     "output_type": "stream",
     "text": [
      "['first_name', 'last_name']\n",
      "['Tahar', 'Estramend']\n",
      "['Amine', 'BenAli']\n",
      "['Zakaria', 'Matei']\n"
     ]
    }
   ],
   "source": [
    "with open(path) as csvfile:\n",
    "    reader = csv.reader(csvfile)\n",
    "    for row in reader:\n",
    "        print(row)"
   ]
  },
  {
   "cell_type": "markdown",
   "id": "4363519c",
   "metadata": {},
   "source": [
    "### Read a csv file as a list of dicts\n"
   ]
  },
  {
   "cell_type": "code",
   "execution_count": 43,
   "id": "b54782f3",
   "metadata": {},
   "outputs": [
    {
     "name": "stdout",
     "output_type": "stream",
     "text": [
      "{'first_name': 'Tahar', 'last_name': 'Estramend'}\n",
      "{'first_name': 'Amine', 'last_name': 'BenAli'}\n",
      "{'first_name': 'Zakaria', 'last_name': 'Matei'}\n"
     ]
    }
   ],
   "source": [
    "with open(path) as csvfile:\n",
    "    reader = csv.DictReader(csvfile)\n",
    "    for row in reader:\n",
    "        print(row)"
   ]
  },
  {
   "cell_type": "markdown",
   "id": "c3bcf5a4",
   "metadata": {},
   "source": [
    "### Write a csv file as a list of rows"
   ]
  },
  {
   "cell_type": "code",
   "execution_count": 60,
   "id": "3c30bbad",
   "metadata": {},
   "outputs": [],
   "source": [
    "grades = [\n",
    "    [\"Tahar\", 15],\n",
    "    [\"Amine\", 18],\n",
    "    [\"Zakaria\", 20],\n",
    "]\n",
    "header = [\"first_name\", \"grade\"]\n",
    "\n",
    "with open(\"/tmp/grades.csv\", \"w\", newline='') as csvfile:\n",
    "    writer = csv.writer(csvfile)\n",
    "    # Write the headers row\n",
    "    writer.writerow(header)\n",
    "    for grade in grades:\n",
    "        writer.writerow(grade)"
   ]
  },
  {
   "cell_type": "code",
   "execution_count": 61,
   "id": "be86d9e4",
   "metadata": {},
   "outputs": [
    {
     "name": "stdout",
     "output_type": "stream",
     "text": [
      "first_name,grade\r\n",
      "\r\n",
      "Tahar,15\r\n",
      "\r\n",
      "Amine,18\r\n",
      "\r\n",
      "Zakaria,20\r\n",
      "\r\n"
     ]
    }
   ],
   "source": [
    "!cat /tmp/grades.csv"
   ]
  },
  {
   "cell_type": "code",
   "execution_count": 62,
   "id": "135c9e73",
   "metadata": {},
   "outputs": [],
   "source": [
    "grades_dicts = [\n",
    "    {'first_name': 'Tahar', 'grade': 15},\n",
    "    {'first_name': 'Amine', 'grade': 18},\n",
    "    {'first_name': 'Zakaria', 'grade': 20},\n",
    "]\n",
    "header = [\"first_name\", \"grade\"]\n",
    "\n",
    "with open(\"/tmp/grades_dict.csv\", \"w\", newline='') as csvfile:\n",
    "    writer = csv.DictWriter(csvfile, fieldnames=header)\n",
    "    # Write the headers row\n",
    "    writer.writeheader()\n",
    "    for grade_dict in grades_dicts:\n",
    "        writer.writerow(grade_dict)"
   ]
  },
  {
   "cell_type": "code",
   "execution_count": 65,
   "id": "0c8651b6",
   "metadata": {},
   "outputs": [
    {
     "name": "stdout",
     "output_type": "stream",
     "text": [
      "first_name,grade\r\n",
      "\r\n",
      "Tahar,15\r\n",
      "\r\n",
      "Amine,18\r\n",
      "\r\n",
      "Zakaria,20\r\n",
      "\r\n"
     ]
    }
   ],
   "source": [
    "!cat /tmp/grades_dict.csv"
   ]
  },
  {
   "cell_type": "markdown",
   "id": "3482bf54",
   "metadata": {},
   "source": [
    "# Exercice"
   ]
  },
  {
   "cell_type": "markdown",
   "id": "4bce36c3",
   "metadata": {},
   "source": [
    "Read the `products.csv` file and extract the following information\n",
    "\n",
    "1. How many products are in the file\n",
    "2. The advertiser/store who has the most phones\n",
    "3. What is the cheapest phone on the market"
   ]
  },
  {
   "cell_type": "code",
   "execution_count": 41,
   "id": "832907da",
   "metadata": {},
   "outputs": [],
   "source": [
    "# Your code start here\n",
    "\n",
    "# Your code ends here"
   ]
  },
  {
   "cell_type": "markdown",
   "id": "f369b2f2",
   "metadata": {},
   "source": [
    "### Extra Exercice\n",
    "1. Do the same work on `data/products_mini.csv`\n",
    "2. Who's the advertiser that has the most raisonable prices\n",
    "3. Read `data/products_raw.csv` and extract the cheapest phone which have:\n",
    "    - at least 64G of storage\n",
    "    - based in Algiers\n",
    "4. The 5 most selling phones on the market"
   ]
  },
  {
   "cell_type": "code",
   "execution_count": null,
   "id": "f70c12ed",
   "metadata": {},
   "outputs": [],
   "source": [
    "# Your code start here\n",
    "\n",
    "# Your code ends here"
   ]
  }
 ],
 "metadata": {
  "kernelspec": {
   "display_name": "Python 3 (ipykernel)",
   "language": "python",
   "name": "python3"
  },
  "language_info": {
   "codemirror_mode": {
    "name": "ipython",
    "version": 3
   },
   "file_extension": ".py",
   "mimetype": "text/x-python",
   "name": "python",
   "nbconvert_exporter": "python",
   "pygments_lexer": "ipython3",
   "version": "3.9.7"
  }
 },
 "nbformat": 4,
 "nbformat_minor": 5
}
