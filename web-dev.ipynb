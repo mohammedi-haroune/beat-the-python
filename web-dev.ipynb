{
 "cells": [
  {
   "cell_type": "markdown",
   "id": "218c25ce-fa38-4318-ba65-07aff84dbdb0",
   "metadata": {},
   "source": [
    "# HTML"
   ]
  },
  {
   "cell_type": "markdown",
   "id": "1e3e984d-b24f-45b0-aeab-b23c129dea66",
   "metadata": {},
   "source": [
    "It is the standard markup language that tells web browsers how to structure the web pages you visit."
   ]
  },
  {
   "cell_type": "markdown",
   "id": "2d3eebdf-9197-40f8-88e3-289a5b91e161",
   "metadata": {},
   "source": [
    "### Example"
   ]
  },
  {
   "cell_type": "markdown",
   "id": "a0fb898f-3993-40c7-8c21-be9fd4c02614",
   "metadata": {},
   "source": [
    "![](assets/html_example.png)"
   ]
  },
  {
   "cell_type": "markdown",
   "id": "885ca292-266e-4c56-a81a-e67b20528758",
   "metadata": {},
   "source": [
    "- `<!DOCTYPE html>` defines that this document is an HTML5 document\n",
    "- HTML is a nested strcuture of elements\n",
    "- `<html>` is the root element\n",
    "- `<head>` contains metadata like the `<title>` of the page which is displayed in the browser's title bar\n",
    "- `<body>` contains the visible content of the web page"
   ]
  },
  {
   "cell_type": "markdown",
   "id": "98397a15-529a-4791-a894-03d75a5983b0",
   "metadata": {},
   "source": [
    "![](assets/html_example_output.png)"
   ]
  },
  {
   "cell_type": "markdown",
   "id": "fa9f8b63-d6c1-4f14-8d6a-c34814256b6f",
   "metadata": {},
   "source": [
    "## HTML Tag / Element\n",
    "\n",
    "- Each element has an opening tag a closing tag and a content\n",
    "- Elements tell the browser how to display the content\n",
    "- Elements label pieces of content such as \"this is a heading\", \"this is a paragraph\", \"this is a link\", etc.\n",
    "\n",
    "### Example\n",
    "![](assets/element_example.png)"
   ]
  },
  {
   "cell_type": "markdown",
   "id": "2894d275-8382-4361-a827-ccb72c0360f4",
   "metadata": {},
   "source": [
    "## Exercice\n",
    "Create an HTML file named `hello.html` with the text \"Hello, World!\" in the title and \"Hello, [Your Name]!\" in the content\n",
    "\n",
    "<details>\n",
    "  <summary>Hints</summary>\n",
    "      <li>Add an HTML <code>title</code> tag with the text \"Hello, World!\"</li>\n",
    "      <li>Add a paragraph (<code>p</code> tag) to the body with the text \"Hello, [You name]!\"</li>\n",
    "</details> "
   ]
  },
  {
   "cell_type": "markdown",
   "id": "5473b91b-aa71-4237-8ae7-d4c4570b34c8",
   "metadata": {},
   "source": [
    "# HTTP Server"
   ]
  },
  {
   "cell_type": "code",
   "execution_count": null,
   "id": "c8fb51c9-8033-4d0f-be6a-471dad0271b9",
   "metadata": {},
   "outputs": [],
   "source": [
    "from http.server import HTTPServer, BaseHTTPRequestHandler, HTTPStatus"
   ]
  },
  {
   "cell_type": "code",
   "execution_count": null,
   "id": "4ff08ba4-c9cd-4da7-8563-909bad472459",
   "metadata": {},
   "outputs": [],
   "source": [
    "class HelloWorldHandler(BaseHTTPRequestHandler):\n",
    "    def do_GET(self):\n",
    "        self.\n",
    "        self.send_response(HTTPStatus.OK)\n",
    "        self.end_headers()\n",
    "        self.wfile.write(b'Hello world')"
   ]
  },
  {
   "cell_type": "code",
   "execution_count": null,
   "id": "2652d714-70d0-4a1c-a756-3afd5362f782",
   "metadata": {},
   "outputs": [],
   "source": [
    "http_server = HTTPServer(('', 8000), HelloWorldHandler)"
   ]
  },
  {
   "cell_type": "code",
   "execution_count": null,
   "id": "ba08b0f5-7685-4a05-a8b0-915b05ba6dfe",
   "metadata": {
    "tags": []
   },
   "outputs": [],
   "source": [
    "http_server.serve_forever()"
   ]
  },
  {
   "cell_type": "markdown",
   "id": "ef773feb-6215-4658-92b4-975672fdde87",
   "metadata": {
    "tags": []
   },
   "source": [
    "**You can access your application at https://iko.ai/notebook/jupyter/user-redirect/proxy/8000**"
   ]
  },
  {
   "cell_type": "markdown",
   "id": "8c0cf76d-bf9f-4785-819c-0c1d03749e64",
   "metadata": {},
   "source": [
    "## Question\n",
    "Write a Python `HTTPServer` that returns the `hello.html`"
   ]
  },
  {
   "cell_type": "markdown",
   "id": "5c609497-1f77-4e2f-a4a3-43ff5d29cc8b",
   "metadata": {
    "tags": []
   },
   "source": [
    "# Flask"
   ]
  },
  {
   "cell_type": "code",
   "execution_count": null,
   "id": "7c480c17-ad7b-4cb7-b533-0158549e31d3",
   "metadata": {},
   "outputs": [],
   "source": [
    "from flask import Flask"
   ]
  },
  {
   "cell_type": "code",
   "execution_count": null,
   "id": "f30b5b0d-fb0a-4acf-98b0-8d9b5d0bec79",
   "metadata": {},
   "outputs": [],
   "source": [
    "app = Flask(__name__)"
   ]
  },
  {
   "cell_type": "code",
   "execution_count": null,
   "id": "6a3d7961-d7db-4677-a361-f5615e693994",
   "metadata": {},
   "outputs": [],
   "source": [
    "@app.route('/')\n",
    "def hello():\n",
    "    return 'Hello World!'"
   ]
  },
  {
   "cell_type": "code",
   "execution_count": null,
   "id": "9a54040c-a452-4d04-abeb-a78968fc3b0a",
   "metadata": {},
   "outputs": [],
   "source": [
    "app.run()"
   ]
  },
  {
   "cell_type": "markdown",
   "id": "e10a6a56-5423-4ad3-ac74-5233b2a132f8",
   "metadata": {},
   "source": [
    "**You can access your application at https://iko.ai/notebook/jupyter/user-redirect/proxy/5000**"
   ]
  }
 ],
 "metadata": {
  "kernelspec": {
   "display_name": "Python [conda env:root] *",
   "language": "python",
   "name": "conda-root-py"
  },
  "language_info": {
   "codemirror_mode": {
    "name": "ipython",
    "version": 3
   },
   "file_extension": ".py",
   "mimetype": "text/x-python",
   "name": "python",
   "nbconvert_exporter": "python",
   "pygments_lexer": "ipython3",
   "version": "3.9.2"
  }
 },
 "nbformat": 4,
 "nbformat_minor": 5
}
