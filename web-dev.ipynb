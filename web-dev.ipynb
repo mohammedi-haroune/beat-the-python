{
 "cells": [
  {
   "cell_type": "markdown",
   "id": "218c25ce-fa38-4318-ba65-07aff84dbdb0",
   "metadata": {},
   "source": [
    "# HTML"
   ]
  },
  {
   "cell_type": "markdown",
   "id": "1e3e984d-b24f-45b0-aeab-b23c129dea66",
   "metadata": {},
   "source": [
    "It is the standard markup language that tells web browsers how to structure the web pages you visit."
   ]
  },
  {
   "cell_type": "markdown",
   "id": "2d3eebdf-9197-40f8-88e3-289a5b91e161",
   "metadata": {},
   "source": [
    "### Example"
   ]
  },
  {
   "cell_type": "markdown",
   "id": "a0fb898f-3993-40c7-8c21-be9fd4c02614",
   "metadata": {},
   "source": [
    "![](assets/html_example.png)"
   ]
  },
  {
   "cell_type": "markdown",
   "id": "885ca292-266e-4c56-a81a-e67b20528758",
   "metadata": {},
   "source": [
    "- `<!DOCTYPE html>` defines that this document is an HTML5 document\n",
    "- HTML is a nested strcuture of elements\n",
    "- `<html>` is the root element\n",
    "- `<head>` contains metadata like the `<title>` of the page which is displayed in the browser's title bar\n",
    "- `<body>` contains the visible content of the web page"
   ]
  },
  {
   "cell_type": "markdown",
   "id": "98397a15-529a-4791-a894-03d75a5983b0",
   "metadata": {},
   "source": [
    "![](assets/html_example_output.png)"
   ]
  },
  {
   "cell_type": "markdown",
   "id": "fa9f8b63-d6c1-4f14-8d6a-c34814256b6f",
   "metadata": {},
   "source": [
    "## HTML Element\n",
    "\n",
    "- Each element has an opening tag a closing tag and a content\n",
    "- Elements tell the browser how to display the content\n",
    "- Elements label pieces of content such as \"this is a heading\", \"this is a paragraph\", \"this is a link\", etc.\n",
    "\n",
    "### Example\n",
    "![](assets/element_example.png)"
   ]
  },
  {
   "cell_type": "markdown",
   "id": "2894d275-8382-4361-a827-ccb72c0360f4",
   "metadata": {},
   "source": [
    "## Exercice\n",
    "Create an HTML file named `hello.html` with the text \"Hello, World!\" in the title and \"Hello, [Your Name]!\" in the content\n",
    "\n",
    "<details>\n",
    "  <summary>Hints</summary>\n",
    "      <li>Add an HTML <code>title</code> tag with the text \"Hello, World!\"</li>\n",
    "      <li>Add a paragraph (<code>p</code> tag) to the body with the text \"Hello, [You name]!\"</li>\n",
    "</details> "
   ]
  },
  {
   "cell_type": "markdown",
   "id": "aa3f9f2c-2850-44a3-b638-998e4822d27c",
   "metadata": {},
   "source": [
    "# HTTP"
   ]
  },
  {
   "cell_type": "markdown",
   "id": "772f90ac-e67b-45d3-839c-75d1c9d2c657",
   "metadata": {},
   "source": [
    "### HTTP request"
   ]
  },
  {
   "cell_type": "markdown",
   "id": "6fabb697-e436-4774-89da-c86ce9f9d6c0",
   "metadata": {},
   "source": [
    "![](assets/request_message.jpeg)"
   ]
  },
  {
   "cell_type": "markdown",
   "id": "bae135db-661e-4a3b-8e8c-117f265572e7",
   "metadata": {},
   "source": [
    "### HTTP response"
   ]
  },
  {
   "cell_type": "markdown",
   "id": "ad99dc09-cdfb-459a-8a08-713ff0d1202e",
   "metadata": {},
   "source": [
    "![](assets/response_message.jpeg)"
   ]
  },
  {
   "cell_type": "markdown",
   "id": "5473b91b-aa71-4237-8ae7-d4c4570b34c8",
   "metadata": {},
   "source": [
    "# HTTP Server"
   ]
  },
  {
   "cell_type": "markdown",
   "id": "7e2cdf6f-cb37-4d00-aa60-a9c6b5ccf96c",
   "metadata": {},
   "source": [
    "### HelloHTTPServer returns \"Hello, World!\" for all requests"
   ]
  },
  {
   "cell_type": "code",
   "execution_count": 2,
   "id": "f04bcd55-9a92-495a-9c5d-4a5da0269622",
   "metadata": {},
   "outputs": [],
   "source": [
    "from beat_the_python import EchoHTTPRequestHandler, HTTPServer"
   ]
  },
  {
   "cell_type": "code",
   "execution_count": 3,
   "id": "4ff08ba4-c9cd-4da7-8563-909bad472459",
   "metadata": {},
   "outputs": [],
   "source": [
    "class HelloWorldHandler(EchoHTTPRequestHandler):\n",
    "    def handle_request(self):\n",
    "        self.send_response(200)\n",
    "        self.end_headers()\n",
    "        self.wfile.write(b'Hello, World!')\n",
    "        \n",
    "http_server = HTTPServer(('localhost', 5000), HelloWorldHandler)\n",
    "http_server.serve_forever()"
   ]
  },
  {
   "cell_type": "markdown",
   "id": "292523f0-d5bb-4a32-9e0e-94a773411842",
   "metadata": {},
   "source": [
    "#### Now make some HTTP requests and see the output"
   ]
  },
  {
   "cell_type": "markdown",
   "id": "8c0cf76d-bf9f-4785-819c-0c1d03749e64",
   "metadata": {},
   "source": [
    "### Write a Python `HTTPServer` that returns the `hello.html`"
   ]
  },
  {
   "cell_type": "code",
   "execution_count": 7,
   "id": "b44dedec-2cb9-4183-a287-e95d40a9443a",
   "metadata": {
    "collapsed": true,
    "jupyter": {
     "outputs_hidden": true
    },
    "tags": []
   },
   "outputs": [
    {
     "name": "stdout",
     "output_type": "stream",
     "text": [
      "Server started listening on http://127.0.0.1:5000\n",
      "\n",
      "########## HTTP Request  ##########\n",
      "GET /?redirects=1 HTTP/1.1\n",
      "\n",
      "X-Forwarded-Host: iko.ai\n",
      "X-Forwarded-Proto: http\n",
      "X-Forwarded-Port: 80\n",
      "Cache-Control: max-age=0\n",
      "If-None-Match: \"da39a3ee5e6b4b0d3255bfef95601890afd80709\"\n",
      "Sec-Fetch-User: ?1\n",
      "Sec-Fetch-Site: same-origin\n",
      "Sec-Fetch-Mode: navigate\n",
      "Sec-Fetch-Dest: document\n",
      "Upgrade-Insecure-Requests: 1\n",
      "Cookie: _xsrf=2|ef7cd2df|d5a39828f1f04613b0bd8985b5c53d5b|1638771576; jupyterhub-user-haroune=\"2|1:0|10:1639496488|23:jupyterhub-user-haroune|44:NDVjMmY2MjY0ZjVlNDIzOGFkYzlhNDJmNGNkMmYzMWU=|b69b57d1c1deaff87cf4c91c7e1a088acc86f2c003efbd3d6e7553c49d6ee423\"; remember_token=4|840ecbb1cf8837c8c9f5fea6b6d3dabcbc31d923d51d5a7c7d3fbab72877d36389e1558a7ca4c3f23901e66a5628fe3a6096c5abc2ae9b4cf1de65c3a898e129; ph_xIRkSshR7aykjUffXP4P864FpsaEjP6NLXYro1QRDXI_posthog=%7B%22distinct_id%22%3A%2217ae366146b86-0c988220054bc9-7825675d-144000-17ae366146c13d%22%2C%22%24device_id%22%3A%2217ae366146b86-0c988220054bc9-7825675d-144000-17ae366146c13d%22%2C%22%24initial_referrer%22%3A%22%24direct%22%2C%22%24initial_referring_domain%22%3A%22%24direct%22%2C%22%24referrer%22%3A%22https%3A%2F%2Fiko.ai%2Fdatastore%2Fharoune-storage%2Fbeat-the-python%2F%22%2C%22%24referring_domain%22%3A%22iko.ai%22%2C%22%24session_recording_enabled%22%3Atrue%2C%22%24sesid%22%3A%5B1639493392917%2C%2217db96b878e3d9-01741b5c3830e48-7d20675d-144000-17db96b878f2ca%22%5D%2C%22%24active_feature_flags%22%3A%5B%5D%7D; session=eyJfZnJlc2giOmZhbHNlLCJ1c2VyX2lkIjoiNCJ9.Ybi6Hw.KB5x78DO_L6NMrmX-dTxNmuiMfA\n",
      "Referer: https://iko.ai/notebook/jupyter/user/haroune/lab/tree/beat-the-python/web-dev.ipynb\n",
      "Accept-Encoding: gzip, deflate, br\n",
      "Accept-Language: en-US,en;q=0.5\n",
      "Accept: text/html,application/xhtml+xml,application/xml;q=0.9,image/avif,image/webp,*/*;q=0.8\n",
      "User-Agent: Mozilla/5.0 (X11; Ubuntu; Linux x86_64; rv:95.0) Gecko/20100101 Firefox/95.0\n",
      "X-Scheme: https\n",
      "Connection: close\n",
      "X-Forwarded-For: 105.102.247.80,127.0.0.1\n",
      "Host: iko.ai\n",
      "X-Real-Ip: 105.102.247.80\n",
      "X-Forwarded-Context: /notebook/jupyter/user/haroune/proxy/5000\n",
      "X-Proxycontextpath: /notebook/jupyter/user/haroune/proxy/5000\n",
      "X-Forwarded-Prefix: /notebook/jupyter/user/haroune/proxy/5000\n",
      "########## HTTP Request  ##########\n",
      "########## HTTP Response ##########\n",
      "HTTP/1.0 200 OK\n",
      "Server: BaseHTTP/0.6 Python/3.9.2\n",
      "Date: Tue, 14 Dec 2021 15:41:29 GMT\n",
      "\n",
      "<html>\n",
      "    <head><title>Hello, World!</title></head>\n",
      "    <body>Hello, Tahar</body>\n",
      "<html>\n",
      "########## HTTP Response ##########\n"
     ]
    },
    {
     "name": "stderr",
     "output_type": "stream",
     "text": [
      "127.0.0.1 - - [14/Dec/2021 15:41:29] \"GET /?redirects=1 HTTP/1.1\" 200 -\n"
     ]
    },
    {
     "name": "stdout",
     "output_type": "stream",
     "text": [
      "########## HTTP Request  ##########\n",
      "GET /?redirects=1 HTTP/1.1\n",
      "\n",
      "X-Forwarded-Host: iko.ai\n",
      "X-Forwarded-Proto: http\n",
      "X-Forwarded-Port: 80\n",
      "Cache-Control: max-age=0\n",
      "If-None-Match: \"7fa41462a8a39cc9ba57b9d9a3dcbd609bc9a6c0\"\n",
      "Sec-Fetch-User: ?1\n",
      "Sec-Fetch-Site: same-origin\n",
      "Sec-Fetch-Mode: navigate\n",
      "Sec-Fetch-Dest: document\n",
      "Upgrade-Insecure-Requests: 1\n",
      "Cookie: _xsrf=2|ef7cd2df|d5a39828f1f04613b0bd8985b5c53d5b|1638771576; jupyterhub-user-haroune=\"2|1:0|10:1639496611|23:jupyterhub-user-haroune|44:NDVjMmY2MjY0ZjVlNDIzOGFkYzlhNDJmNGNkMmYzMWU=|7e7eafecb2faf03ab45cb2c4bd908a796a95bfaf81d08b4178d2cda2428f1f1b\"; remember_token=4|840ecbb1cf8837c8c9f5fea6b6d3dabcbc31d923d51d5a7c7d3fbab72877d36389e1558a7ca4c3f23901e66a5628fe3a6096c5abc2ae9b4cf1de65c3a898e129; ph_xIRkSshR7aykjUffXP4P864FpsaEjP6NLXYro1QRDXI_posthog=%7B%22distinct_id%22%3A%2217ae366146b86-0c988220054bc9-7825675d-144000-17ae366146c13d%22%2C%22%24device_id%22%3A%2217ae366146b86-0c988220054bc9-7825675d-144000-17ae366146c13d%22%2C%22%24initial_referrer%22%3A%22%24direct%22%2C%22%24initial_referring_domain%22%3A%22%24direct%22%2C%22%24referrer%22%3A%22https%3A%2F%2Fiko.ai%2Fdatastore%2Fharoune-storage%2Fbeat-the-python%2F%22%2C%22%24referring_domain%22%3A%22iko.ai%22%2C%22%24session_recording_enabled%22%3Atrue%2C%22%24sesid%22%3A%5B1639493392917%2C%2217db96b878e3d9-01741b5c3830e48-7d20675d-144000-17db96b878f2ca%22%5D%2C%22%24active_feature_flags%22%3A%5B%5D%7D; session=eyJfZnJlc2giOmZhbHNlLCJ1c2VyX2lkIjoiNCJ9.Ybi6Hw.KB5x78DO_L6NMrmX-dTxNmuiMfA\n",
      "Referer: https://iko.ai/notebook/jupyter/user/haroune/lab/tree/beat-the-python/web-dev.ipynb\n",
      "Accept-Encoding: gzip, deflate, br\n",
      "Accept-Language: en-US,en;q=0.5\n",
      "Accept: text/html,application/xhtml+xml,application/xml;q=0.9,image/avif,image/webp,*/*;q=0.8\n",
      "User-Agent: Mozilla/5.0 (X11; Ubuntu; Linux x86_64; rv:95.0) Gecko/20100101 Firefox/95.0\n",
      "X-Scheme: https\n",
      "Connection: close\n",
      "X-Forwarded-For: 105.102.247.80,127.0.0.1\n",
      "Host: iko.ai\n",
      "X-Real-Ip: 105.102.247.80\n",
      "X-Forwarded-Context: /notebook/jupyter/user/haroune/proxy/5000\n",
      "X-Proxycontextpath: /notebook/jupyter/user/haroune/proxy/5000\n",
      "X-Forwarded-Prefix: /notebook/jupyter/user/haroune/proxy/5000\n",
      "########## HTTP Request  ##########\n",
      "########## HTTP Response ##########\n",
      "HTTP/1.0 200 OK\n",
      "Server: BaseHTTP/0.6 Python/3.9.2\n",
      "Date: Tue, 14 Dec 2021 15:43:32 GMT\n",
      "\n",
      "<html>\n",
      "    <head><title>Hello, World!</title></head>\n",
      "    <body><h1>Hello, Tahar</h1></body>\n",
      "<html>\n",
      "########## HTTP Response ##########\n"
     ]
    },
    {
     "name": "stderr",
     "output_type": "stream",
     "text": [
      "127.0.0.1 - - [14/Dec/2021 15:43:32] \"GET /?redirects=1 HTTP/1.1\" 200 -\n"
     ]
    },
    {
     "name": "stdout",
     "output_type": "stream",
     "text": [
      "\n",
      "Server stopped.\n"
     ]
    }
   ],
   "source": [
    "class HelloWorldHandler(EchoHTTPRequestHandler):\n",
    "    def handle_request(self):\n",
    "        self.send_response(200)\n",
    "        self.end_headers()\n",
    "        with open('web/hello.html', 'rb') as f:\n",
    "            self.wfile.write(f.read())\n",
    "        \n",
    "http_server = HTTPServer(('localhost', 5000), HelloWorldHandler)\n",
    "http_server.serve_forever()"
   ]
  },
  {
   "cell_type": "markdown",
   "id": "0b7f71a8-be28-4aa4-b7b2-8605fca15ae8",
   "metadata": {},
   "source": [
    "#### Now, make it so `/<user>` returns `Hello, <user>!` instead of your name"
   ]
  },
  {
   "cell_type": "code",
   "execution_count": null,
   "id": "5964194d-cf1c-44de-9574-cc5f0037bcb2",
   "metadata": {
    "tags": []
   },
   "outputs": [
    {
     "name": "stdout",
     "output_type": "stream",
     "text": [
      "Server started listening on http://127.0.0.1:5000\n",
      "\n",
      "########## HTTP Request  ##########\n",
      "GET /?redirects=1 HTTP/1.1\n",
      "\n",
      "X-Forwarded-Host: iko.ai\n",
      "X-Forwarded-Proto: http\n",
      "X-Forwarded-Port: 80\n",
      "If-None-Match: \"82005cd90c1743ab784dfb0e43738675166ae110\"\n",
      "Sec-Fetch-User: ?1\n",
      "Sec-Fetch-Site: same-origin\n",
      "Sec-Fetch-Mode: navigate\n",
      "Sec-Fetch-Dest: document\n",
      "Upgrade-Insecure-Requests: 1\n",
      "Cookie: _xsrf=2|ef7cd2df|d5a39828f1f04613b0bd8985b5c53d5b|1638771576; jupyterhub-user-haroune=\"2|1:0|10:1639497324|23:jupyterhub-user-haroune|44:NDVjMmY2MjY0ZjVlNDIzOGFkYzlhNDJmNGNkMmYzMWU=|794d99ef2319565c5b9825089ff743eb1685f3482e079954e964815fdf2834db\"; remember_token=4|840ecbb1cf8837c8c9f5fea6b6d3dabcbc31d923d51d5a7c7d3fbab72877d36389e1558a7ca4c3f23901e66a5628fe3a6096c5abc2ae9b4cf1de65c3a898e129; ph_xIRkSshR7aykjUffXP4P864FpsaEjP6NLXYro1QRDXI_posthog=%7B%22distinct_id%22%3A%2217ae366146b86-0c988220054bc9-7825675d-144000-17ae366146c13d%22%2C%22%24device_id%22%3A%2217ae366146b86-0c988220054bc9-7825675d-144000-17ae366146c13d%22%2C%22%24initial_referrer%22%3A%22%24direct%22%2C%22%24initial_referring_domain%22%3A%22%24direct%22%2C%22%24referrer%22%3A%22https%3A%2F%2Fiko.ai%2Fdatastore%2Fharoune-storage%2Fbeat-the-python%2F%22%2C%22%24referring_domain%22%3A%22iko.ai%22%2C%22%24session_recording_enabled%22%3Atrue%2C%22%24sesid%22%3A%5B1639493392917%2C%2217db96b878e3d9-01741b5c3830e48-7d20675d-144000-17db96b878f2ca%22%5D%2C%22%24active_feature_flags%22%3A%5B%5D%7D; session=eyJfZnJlc2giOmZhbHNlLCJ1c2VyX2lkIjoiNCJ9.Ybi7-g.xRRQjyUop32_9dUXjTJh9HgKMoc\n",
      "Referer: https://iko.ai/notebook/jupyter/user/haroune/lab/tree/beat-the-python/web-dev.ipynb\n",
      "Accept-Encoding: gzip, deflate, br\n",
      "Accept-Language: en-US,en;q=0.5\n",
      "Accept: text/html,application/xhtml+xml,application/xml;q=0.9,image/avif,image/webp,*/*;q=0.8\n",
      "User-Agent: Mozilla/5.0 (X11; Ubuntu; Linux x86_64; rv:95.0) Gecko/20100101 Firefox/95.0\n",
      "X-Scheme: https\n",
      "Connection: close\n",
      "X-Forwarded-For: 105.102.247.80,127.0.0.1\n",
      "Host: iko.ai\n",
      "X-Real-Ip: 105.102.247.80\n",
      "X-Forwarded-Context: /notebook/jupyter/user/haroune/proxy/5000\n",
      "X-Proxycontextpath: /notebook/jupyter/user/haroune/proxy/5000\n",
      "X-Forwarded-Prefix: /notebook/jupyter/user/haroune/proxy/5000\n",
      "########## HTTP Request  ##########\n",
      "########## HTTP Response ##########\n",
      "HTTP/1.0 200 OK\n",
      "Server: BaseHTTP/0.6 Python/3.9.2\n",
      "Date: Tue, 14 Dec 2021 15:55:29 GMT\n",
      "\n",
      "<html>\n",
      "    <head><title>Hello, World!</title></head>\n",
      "    <body><h1>Hello, ?redirects=1</h1></body>\n",
      "<html>\n",
      "########## HTTP Response ##########\n"
     ]
    },
    {
     "name": "stderr",
     "output_type": "stream",
     "text": [
      "127.0.0.1 - - [14/Dec/2021 15:55:29] \"GET /?redirects=1 HTTP/1.1\" 200 -\n"
     ]
    },
    {
     "name": "stdout",
     "output_type": "stream",
     "text": [
      "########## HTTP Request  ##########\n",
      "GET /Khoya HTTP/1.1\n",
      "\n",
      "X-Forwarded-Host: iko.ai\n",
      "X-Forwarded-Proto: http\n",
      "X-Forwarded-Port: 80\n",
      "Sec-Fetch-User: ?1\n",
      "Sec-Fetch-Site: none\n",
      "Sec-Fetch-Mode: navigate\n",
      "Sec-Fetch-Dest: document\n",
      "Upgrade-Insecure-Requests: 1\n",
      "Cookie: _xsrf=2|ef7cd2df|d5a39828f1f04613b0bd8985b5c53d5b|1638771576; jupyterhub-user-haroune=\"2|1:0|10:1639497324|23:jupyterhub-user-haroune|44:NDVjMmY2MjY0ZjVlNDIzOGFkYzlhNDJmNGNkMmYzMWU=|794d99ef2319565c5b9825089ff743eb1685f3482e079954e964815fdf2834db\"; remember_token=4|840ecbb1cf8837c8c9f5fea6b6d3dabcbc31d923d51d5a7c7d3fbab72877d36389e1558a7ca4c3f23901e66a5628fe3a6096c5abc2ae9b4cf1de65c3a898e129; ph_xIRkSshR7aykjUffXP4P864FpsaEjP6NLXYro1QRDXI_posthog=%7B%22distinct_id%22%3A%2217ae366146b86-0c988220054bc9-7825675d-144000-17ae366146c13d%22%2C%22%24device_id%22%3A%2217ae366146b86-0c988220054bc9-7825675d-144000-17ae366146c13d%22%2C%22%24initial_referrer%22%3A%22%24direct%22%2C%22%24initial_referring_domain%22%3A%22%24direct%22%2C%22%24referrer%22%3A%22https%3A%2F%2Fiko.ai%2Fdatastore%2Fharoune-storage%2Fbeat-the-python%2F%22%2C%22%24referring_domain%22%3A%22iko.ai%22%2C%22%24session_recording_enabled%22%3Atrue%2C%22%24sesid%22%3A%5B1639493392917%2C%2217db96b878e3d9-01741b5c3830e48-7d20675d-144000-17db96b878f2ca%22%5D%2C%22%24active_feature_flags%22%3A%5B%5D%7D; session=eyJfZnJlc2giOmZhbHNlLCJ1c2VyX2lkIjoiNCJ9.Ybi7-g.xRRQjyUop32_9dUXjTJh9HgKMoc\n",
      "Accept-Encoding: gzip, deflate, br\n",
      "Accept-Language: en-US,en;q=0.5\n",
      "Accept: text/html,application/xhtml+xml,application/xml;q=0.9,image/avif,image/webp,*/*;q=0.8\n",
      "User-Agent: Mozilla/5.0 (X11; Ubuntu; Linux x86_64; rv:95.0) Gecko/20100101 Firefox/95.0\n",
      "X-Scheme: https\n",
      "Connection: close\n",
      "X-Forwarded-For: 105.102.247.80,127.0.0.1\n",
      "Host: iko.ai\n",
      "X-Real-Ip: 105.102.247.80\n",
      "X-Forwarded-Context: /notebook/jupyter/user/haroune/proxy/5000\n",
      "X-Proxycontextpath: /notebook/jupyter/user/haroune/proxy/5000\n",
      "X-Forwarded-Prefix: /notebook/jupyter/user/haroune/proxy/5000\n",
      "########## HTTP Request  ##########\n",
      "########## HTTP Response ##########\n",
      "HTTP/1.0 200 OK\n",
      "Server: BaseHTTP/0.6 Python/3.9.2\n",
      "Date: Tue, 14 Dec 2021 15:55:39 GMT\n",
      "\n",
      "<html>\n",
      "    <head><title>Hello, World!</title></head>\n",
      "    <body><h1>Hello, Khoya</h1></body>\n",
      "<html>\n",
      "########## HTTP Response ##########\n"
     ]
    },
    {
     "name": "stderr",
     "output_type": "stream",
     "text": [
      "127.0.0.1 - - [14/Dec/2021 15:55:39] \"GET /Khoya HTTP/1.1\" 200 -\n"
     ]
    },
    {
     "name": "stdout",
     "output_type": "stream",
     "text": [
      "########## HTTP Request  ##########\n",
      "GET /Khoya/Zine HTTP/1.1\n",
      "\n",
      "X-Forwarded-Host: iko.ai\n",
      "X-Forwarded-Proto: http\n",
      "X-Forwarded-Port: 80\n",
      "Sec-Fetch-User: ?1\n",
      "Sec-Fetch-Site: none\n",
      "Sec-Fetch-Mode: navigate\n",
      "Sec-Fetch-Dest: document\n",
      "Upgrade-Insecure-Requests: 1\n",
      "Cookie: _xsrf=2|ef7cd2df|d5a39828f1f04613b0bd8985b5c53d5b|1638771576; jupyterhub-user-haroune=\"2|1:0|10:1639497324|23:jupyterhub-user-haroune|44:NDVjMmY2MjY0ZjVlNDIzOGFkYzlhNDJmNGNkMmYzMWU=|794d99ef2319565c5b9825089ff743eb1685f3482e079954e964815fdf2834db\"; remember_token=4|840ecbb1cf8837c8c9f5fea6b6d3dabcbc31d923d51d5a7c7d3fbab72877d36389e1558a7ca4c3f23901e66a5628fe3a6096c5abc2ae9b4cf1de65c3a898e129; ph_xIRkSshR7aykjUffXP4P864FpsaEjP6NLXYro1QRDXI_posthog=%7B%22distinct_id%22%3A%2217ae366146b86-0c988220054bc9-7825675d-144000-17ae366146c13d%22%2C%22%24device_id%22%3A%2217ae366146b86-0c988220054bc9-7825675d-144000-17ae366146c13d%22%2C%22%24initial_referrer%22%3A%22%24direct%22%2C%22%24initial_referring_domain%22%3A%22%24direct%22%2C%22%24referrer%22%3A%22https%3A%2F%2Fiko.ai%2Fdatastore%2Fharoune-storage%2Fbeat-the-python%2F%22%2C%22%24referring_domain%22%3A%22iko.ai%22%2C%22%24session_recording_enabled%22%3Atrue%2C%22%24sesid%22%3A%5B1639493392917%2C%2217db96b878e3d9-01741b5c3830e48-7d20675d-144000-17db96b878f2ca%22%5D%2C%22%24active_feature_flags%22%3A%5B%5D%7D; session=eyJfZnJlc2giOmZhbHNlLCJ1c2VyX2lkIjoiNCJ9.Ybi7-g.xRRQjyUop32_9dUXjTJh9HgKMoc\n",
      "Accept-Encoding: gzip, deflate, br\n",
      "Accept-Language: en-US,en;q=0.5\n",
      "Accept: text/html,application/xhtml+xml,application/xml;q=0.9,image/avif,image/webp,*/*;q=0.8\n",
      "User-Agent: Mozilla/5.0 (X11; Ubuntu; Linux x86_64; rv:95.0) Gecko/20100101 Firefox/95.0\n",
      "X-Scheme: https\n",
      "Connection: close\n",
      "X-Forwarded-For: 105.102.247.80,127.0.0.1\n",
      "Host: iko.ai\n",
      "X-Real-Ip: 105.102.247.80\n",
      "X-Forwarded-Context: /notebook/jupyter/user/haroune/proxy/5000\n",
      "X-Proxycontextpath: /notebook/jupyter/user/haroune/proxy/5000\n",
      "X-Forwarded-Prefix: /notebook/jupyter/user/haroune/proxy/5000\n",
      "########## HTTP Request  ##########\n",
      "########## HTTP Response ##########\n",
      "HTTP/1.0 200 OK\n",
      "Server: BaseHTTP/0.6 Python/3.9.2\n",
      "Date: Tue, 14 Dec 2021 15:55:44 GMT\n",
      "\n",
      "<html>\n",
      "    <head><title>Hello, World!</title></head>\n",
      "    <body><h1>Hello, Khoya/Zine</h1></body>\n",
      "<html>\n",
      "########## HTTP Response ##########\n"
     ]
    },
    {
     "name": "stderr",
     "output_type": "stream",
     "text": [
      "127.0.0.1 - - [14/Dec/2021 15:55:44] \"GET /Khoya/Zine HTTP/1.1\" 200 -\n"
     ]
    }
   ],
   "source": [
    "class HelloWorldHandler(EchoHTTPRequestHandler):\n",
    "    def handle_request(self):\n",
    "        self.send_response(200)\n",
    "        self.end_headers()\n",
    "        username = self.path.strip('/')\n",
    "        with open('web/hello_template.html') as f:\n",
    "            html_template = f.read()\n",
    "            html = html_template.format(username=username)\n",
    "            html_bytes = html.encode()\n",
    "            \n",
    "            # we can only write bytes to the wfile\n",
    "            self.wfile.write(html_bytes)\n",
    "        \n",
    "http_server = HTTPServer(('localhost', 5000), HelloWorldHandler)\n",
    "http_server.serve_forever()"
   ]
  },
  {
   "cell_type": "markdown",
   "id": "9d9b1089-0959-4ff2-88df-78172b51faba",
   "metadata": {},
   "source": [
    "**You can access your application at https://iko.ai/notebook/jupyter/user-redirect/proxy/5000**"
   ]
  },
  {
   "cell_type": "markdown",
   "id": "5c609497-1f77-4e2f-a4a3-43ff5d29cc8b",
   "metadata": {
    "tags": []
   },
   "source": [
    "# Flask"
   ]
  },
  {
   "cell_type": "code",
   "execution_count": 23,
   "id": "7c480c17-ad7b-4cb7-b533-0158549e31d3",
   "metadata": {},
   "outputs": [],
   "source": [
    "from flask import Flask"
   ]
  },
  {
   "cell_type": "code",
   "execution_count": 24,
   "id": "f30b5b0d-fb0a-4acf-98b0-8d9b5d0bec79",
   "metadata": {},
   "outputs": [],
   "source": [
    "app = Flask(__name__)"
   ]
  },
  {
   "cell_type": "code",
   "execution_count": 25,
   "id": "6a3d7961-d7db-4677-a361-f5615e693994",
   "metadata": {},
   "outputs": [],
   "source": [
    "@app.route('/')\n",
    "def hello():\n",
    "    return 'Hello World!'"
   ]
  },
  {
   "cell_type": "code",
   "execution_count": 26,
   "id": "9a54040c-a452-4d04-abeb-a78968fc3b0a",
   "metadata": {},
   "outputs": [
    {
     "name": "stdout",
     "output_type": "stream",
     "text": [
      " * Serving Flask app '__main__' (lazy loading)\n",
      " * Environment: production\n",
      "\u001b[31m   WARNING: This is a development server. Do not use it in a production deployment.\u001b[0m\n",
      "\u001b[2m   Use a production WSGI server instead.\u001b[0m\n",
      " * Debug mode: off\n"
     ]
    },
    {
     "name": "stderr",
     "output_type": "stream",
     "text": [
      " * Running on http://127.0.0.1:5000/ (Press CTRL+C to quit)\n"
     ]
    }
   ],
   "source": [
    "app.run()"
   ]
  },
  {
   "cell_type": "markdown",
   "id": "e10a6a56-5423-4ad3-ac74-5233b2a132f8",
   "metadata": {},
   "source": [
    "**You can access your application at https://iko.ai/notebook/jupyter/user-redirect/proxy/5000**"
   ]
  }
 ],
 "metadata": {
  "kernelspec": {
   "display_name": "Python [conda env:root] *",
   "language": "python",
   "name": "conda-root-py"
  },
  "language_info": {
   "codemirror_mode": {
    "name": "ipython",
    "version": 3
   },
   "file_extension": ".py",
   "mimetype": "text/x-python",
   "name": "python",
   "nbconvert_exporter": "python",
   "pygments_lexer": "ipython3",
   "version": "3.9.2"
  }
 },
 "nbformat": 4,
 "nbformat_minor": 5
}
